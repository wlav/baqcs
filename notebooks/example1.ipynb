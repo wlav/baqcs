{
 "cells": [
  {
   "cell_type": "code",
   "execution_count": 1,
   "id": "bf849e13-f1fa-43e5-a9a5-b68b2641d9d4",
   "metadata": {},
   "outputs": [],
   "source": [
    "%reload_ext autoreload\n",
    "%autoreload 2"
   ]
  },
  {
   "cell_type": "code",
   "execution_count": 2,
   "id": "e428bd4c-b993-4aa5-874c-542167dd12a5",
   "metadata": {},
   "outputs": [],
   "source": [
    "import baqcs\n",
    "import matplotlib.pyplot as plt\n",
    "import numpy as np\n",
    "import torch"
   ]
  },
  {
   "cell_type": "code",
   "execution_count": 3,
   "id": "ee08ca79-626a-4ca6-b102-ee6ae1e93bf1",
   "metadata": {},
   "outputs": [],
   "source": [
    "from qiskit.circuit import QuantumCircuit, QuantumRegister, AncillaRegister, ClassicalRegister"
   ]
  },
  {
   "cell_type": "code",
   "execution_count": 4,
   "id": "8df2114c-2a72-499f-8df6-c63e2f7a8e6d",
   "metadata": {},
   "outputs": [],
   "source": [
    "def create_parametrized_circuit(theta_a=0.5, phi_a=0.3, theta_s0=1.0, phi_s1=0.7):\n",
    "    \"\"\"\n",
    "    Create a parametrized quantum circuit with mid-circuit measurement.\n",
    "    \n",
    "    Parameters control the rotation angles and conditional operations.\n",
    "    \"\"\"\n",
    "  # create registers\n",
    "    sys_qubits = QuantumRegister(2, 'sys')\n",
    "    anc_qubit = AncillaRegister(1, 'anc')\n",
    "    sys_clbits = ClassicalRegister(2, 'sys_meas')\n",
    "    anc_clbit = ClassicalRegister(1, 'anc_meas')\n",
    "    \n",
    "  # create circuit\n",
    "    qc = QuantumCircuit(sys_qubits, anc_qubit, sys_clbits, anc_clbit)\n",
    "    \n",
    "  # initialize with uniform superposition (H gates on all qubits)\n",
    "    qc.h(sys_qubits[0])\n",
    "    qc.h(sys_qubits[1])\n",
    "    qc.h(anc_qubit[0])\n",
    "    \n",
    "  # entangle ancilla with system qubits\n",
    "    qc.cx(anc_qubit[0], sys_qubits[0])\n",
    "    qc.cx(anc_qubit[0], sys_qubits[1])\n",
    "    \n",
    "  # apply some rotations on the ancilla\n",
    "    qc.ry(theta_a * np.pi, anc_qubit[0])\n",
    "    qc.rz(phi_a * np.pi, anc_qubit[0])\n",
    "    \n",
    "  # mid-circuit measurement on ancilla\n",
    "    qc.measure(anc_qubit[0], anc_clbit[0])\n",
    "    \n",
    "  # Conditional operations based on ancilla measurement\n",
    "    with qc.if_test((anc_clbit[0], 1)) as else_:\n",
    "      # ancilla measured as 1\n",
    "        qc.x(sys_qubits[0])\n",
    "        qc.ry(theta_s0 * np.pi, sys_qubits[0])\n",
    "        qc.cz(sys_qubits[0], sys_qubits[1])\n",
    "\n",
    "    with else_:\n",
    "      # ancilla measured as 0\n",
    "        qc.rz(phi_s1 * np.pi, sys_qubits[1])\n",
    "        qc.cx(sys_qubits[0], sys_qubits[1])\n",
    "    \n",
    "  # final measurement on system qubits\n",
    "    qc.measure(sys_qubits, sys_clbits)\n",
    "    \n",
    "    return qc"
   ]
  },
  {
   "cell_type": "code",
   "execution_count": 5,
   "id": "82e86a65-cd29-4282-99f2-d8eb35b04c61",
   "metadata": {},
   "outputs": [],
   "source": [
    "sampler = baqcs.Sampler()"
   ]
  },
  {
   "cell_type": "code",
   "execution_count": 6,
   "id": "fe1f3ca9-ce71-4678-a20e-c590eaaaf43c",
   "metadata": {},
   "outputs": [],
   "source": [
    "# Create a parametrized circuit\n",
    "# Adjust these parameters to create different ancilla distributions\n",
    "circuit = create_parametrized_circuit(\n",
    "    theta_a=0.3,  # Theta rotation on ancilla\n",
    "    phi_a=0.5,    # Phi rotation on ancilla\n",
    "    theta_s0=0.8, # Conditional rotation on 1st system qubit\n",
    "    phi_s1=0.6    # Conditional rotation on 2nd system qubit\n",
    ")"
   ]
  },
  {
   "cell_type": "code",
   "execution_count": 7,
   "id": "dfcd5b51-d76d-440d-aafc-585629e0a794",
   "metadata": {},
   "outputs": [],
   "source": [
    "sys_counts, anc_counts, counts = sampler.sample(circuit)"
   ]
  },
  {
   "cell_type": "code",
   "execution_count": 8,
   "id": "66b3aa8f-28ec-40cd-8c6d-794327c5c79a",
   "metadata": {},
   "outputs": [],
   "source": [
    "base_circuit, zero_circuit, one_circuit = baqcs.decompose(circuit)"
   ]
  },
  {
   "cell_type": "code",
   "execution_count": 9,
   "id": "4012ece6-9c07-431d-9cba-99000c7b7bd2",
   "metadata": {},
   "outputs": [
    {
     "name": "stdout",
     "output_type": "stream",
     "text": [
      "tensor([[0.2500, 0.2500, 0.2500, 0.2500],\n",
      "        [0.1031, 0.3969, 0.1031, 0.3969]])\n"
     ]
    }
   ],
   "source": [
    "session = baqcs.Session()\n",
    "cpt = session.estimate_p([0, 1],\n",
    "         base_circuit, (zero_circuit, one_circuit))\n",
    "print(cpt)"
   ]
  },
  {
   "cell_type": "code",
   "execution_count": 10,
   "id": "8674e568-d9df-44cb-a6ee-9ed818ee56c7",
   "metadata": {},
   "outputs": [],
   "source": [
    "from baqcs.models import binomial_ancilla_model"
   ]
  },
  {
   "cell_type": "code",
   "execution_count": 11,
   "id": "e688c6b3-44b3-4994-a1fd-3afa15789cf8",
   "metadata": {},
   "outputs": [
    {
     "name": "stderr",
     "output_type": "stream",
     "text": [
      "Sample: 100%|███████████████████████████████████████| 2500/2500 [00:07, 338.16it/s, step size=1.20e+00, acc. prob=0.907]                                                          \n"
     ]
    }
   ],
   "source": [
    "result = session.run_mcmc_inference(binomial_ancilla_model, sys_counts, cpt)"
   ]
  },
  {
   "cell_type": "code",
   "execution_count": 12,
   "id": "3af58608-703e-4b7c-bbec-82ec905e1a11",
   "metadata": {},
   "outputs": [],
   "source": [
    "def analyze_results(samples, ancilla_outcomes):\n",
    "    \"\"\"\n",
    "    Analyze and visualize the inference results.\n",
    "    \"\"\"\n",
    "  # extract the inferred probability of ancilla being 1\n",
    "    p_ancilla_one_samples = samples[\"p_ancilla_one\"].numpy()\n",
    "    \n",
    "  # \"true\" probability (as sampled)\n",
    "    try:\n",
    "        true_p = ancilla_outcomes['1']/sum(ancilla_outcomes.values())\n",
    "    except KeyError:\n",
    "        true_p = np.mean(ancilla_outcomes)\n",
    "    \n",
    "  # plot posterior distribution\n",
    "    plt.figure(figsize=(10, 6))\n",
    "    plt.hist(p_ancilla_one_samples, bins=50, density=True, alpha=0.7, \n",
    "             label='Posterior distribution')\n",
    "    plt.axvline(true_p, color='red', linestyle='--', linewidth=2, \n",
    "                label=f'True probability: {true_p:.3f}')\n",
    "    plt.axvline(np.mean(p_ancilla_one_samples), color='green', linestyle='--', \n",
    "                linewidth=2, label=f'Posterior mean: {np.mean(p_ancilla_one_samples):.3f}')\n",
    "    plt.xlabel('P(Ancilla = 1)')\n",
    "    plt.ylabel('Density')\n",
    "    plt.title('Posterior Distribution of Ancilla Measurement Probability')\n",
    "    plt.legend()\n",
    "    plt.grid(True, alpha=0.3)\n",
    "    plt.show()\n",
    "    \n",
    "  # print summary statistics\n",
    "    print(f\"True P(Ancilla = 1): {true_p:.4f}\")\n",
    "    print(f\"Posterior mean: {np.mean(p_ancilla_one_samples):.4f}\")\n",
    "    print(f\"Posterior std: {np.std(p_ancilla_one_samples):.4f}\")\n",
    "    print(f\"95% Credible interval: [{np.percentile(p_ancilla_one_samples, 2.5):.4f}, \"\n",
    "          f\"{np.percentile(p_ancilla_one_samples, 97.5):.4f}]\")"
   ]
  },
  {
   "cell_type": "code",
   "execution_count": 13,
   "id": "aeec6497-96b4-4b3e-af28-ba4fc75c71d0",
   "metadata": {},
   "outputs": [
    {
     "data": {
      "image/png": "[encoded data removed]",
      "text/plain": [
       "<Figure size 1000x600 with 1 Axes>"
      ]
     },
     "metadata": {},
     "output_type": "display_data"
    },
    {
     "name": "stdout",
     "output_type": "stream",
     "text": [
      "True P(Ancilla = 1): 0.9037\n",
      "Posterior mean: 0.9075\n",
      "Posterior std: 0.0156\n",
      "95% Credible interval: [0.8761, 0.9384]\n"
     ]
    }
   ],
   "source": [
    "analyze_results(result, anc_counts)"
   ]
  },
  {
   "cell_type": "code",
   "execution_count": 14,
   "id": "6bd4478b-6f30-477f-a8b4-0c46213c1b58",
   "metadata": {},
   "outputs": [],
   "source": [
    "from baqcs.models import generic_ancilla_model_with_circuit\n",
    "from baqcs.guides import logit_guide"
   ]
  },
  {
   "cell_type": "code",
   "execution_count": 15,
   "id": "b55accef-ef87-496a-82f5-55d19a7b31ad",
   "metadata": {},
   "outputs": [],
   "source": [
    "def generic_ancilla_model(observations=None):\n",
    "    return generic_ancilla_model_with_circuit(\n",
    "        probability_table = cpt,\n",
    "        observations = observations)"
   ]
  },
  {
   "cell_type": "code",
   "execution_count": 16,
   "id": "3f1af824-24b6-41c5-ac94-15acb4e5720f",
   "metadata": {},
   "outputs": [
    {
     "name": "stdout",
     "output_type": "stream",
     "text": [
      "\n",
      "Observation: 0 (binary: 00)\n",
      "Step    0, Loss:   1.8294, P(ancilla=1): 0.4950\n",
      "--------------------------------------------------\n",
      "Final P(ancilla=0|observations): 0.7228\n",
      "Final P(ancilla=1|observations): 0.2772\n",
      "\n",
      "Observation: 1 (binary: 01)\n",
      "Step    0, Loss:   1.1551, P(ancilla=1): 0.5050\n",
      "--------------------------------------------------\n",
      "Final P(ancilla=0|observations): 0.3923\n",
      "Final P(ancilla=1|observations): 0.6077\n",
      "\n",
      "Observation: 2 (binary: 10)\n",
      "Step    0, Loss:   1.8294, P(ancilla=1): 0.4950\n",
      "--------------------------------------------------\n",
      "Final P(ancilla=0|observations): 0.7228\n",
      "Final P(ancilla=1|observations): 0.2772\n",
      "\n",
      "Observation: 3 (binary: 11)\n",
      "Step    0, Loss:   1.1551, P(ancilla=1): 0.5050\n",
      "--------------------------------------------------\n",
      "Final P(ancilla=0|observations): 0.3923\n",
      "Final P(ancilla=1|observations): 0.6077\n"
     ]
    }
   ],
   "source": [
    "# explore all possible outcomes\n",
    "Ns = len(circuit.qubits) - len(circuit.ancillas)\n",
    "\n",
    "results = dict()\n",
    "for observation in range(Ns**2):\n",
    "    print(f\"\\nObservation: {observation} (binary: {format(observation, '02b')})\")\n",
    "    observations = torch.tensor([observation])\n",
    "    final_probs = session.svi(\n",
    "        sys_qubits = range(Ns),\n",
    "        model = generic_ancilla_model,\n",
    "        guide = logit_guide,\n",
    "        observations = observations,\n",
    "        seed=42,\n",
    "    )\n",
    "\n",
    "    results[observations] = final_probs\n",
    "\n",
    "    print(\"-\" * 50)\n",
    "    print(f\"Final P(ancilla=0|observations): {final_probs[0]:.4f}\")\n",
    "    print(f\"Final P(ancilla=1|observations): {final_probs[1]:.4f}\")"
   ]
  },
  {
   "cell_type": "code",
   "execution_count": 17,
   "id": "2443fde2-525a-4c09-89b9-91244cd86c34",
   "metadata": {},
   "outputs": [
    {
     "name": "stdout",
     "output_type": "stream",
     "text": [
      "est. P(ancilla=0): tensor(0.4695)\n",
      "est. P(ancilla=1): tensor(0.5305)\n"
     ]
    }
   ],
   "source": [
    "# find the answer based on combining the system measurements\n",
    "prob_0, prob_1 = 0, 0\n",
    "for obs, probs in results.items():\n",
    "    outcome = format(obs[0], f'0{Ns}b')\n",
    "    cnt = sys_counts[outcome[::-1]]\n",
    "    prob_0 += cnt*probs[0]\n",
    "    prob_1 += cnt*probs[1]\n",
    "\n",
    "n_meas = sum(sys_counts.values())\n",
    "print(\"est. P(ancilla=0):\", prob_0/n_meas)\n",
    "print(\"est. P(ancilla=1):\", prob_1/n_meas)"
   ]
  },
  {
   "cell_type": "code",
   "execution_count": 18,
   "id": "80df112a-61c0-4212-be33-b229b2414bbc",
   "metadata": {},
   "outputs": [
    {
     "name": "stdout",
     "output_type": "stream",
     "text": [
      "Step    0, Loss: 10752.6660, P(ancilla=1): 0.5050\n",
      "--------------------------------------------------\n",
      "Final P(ancilla=0|observations): 0.4611\n",
      "Final P(ancilla=1|observations): 0.5389\n"
     ]
    }
   ],
   "source": [
    "# full SVI\n",
    "Ns = len(circuit.qubits) - len(circuit.ancillas)\n",
    "\n",
    "final_probs = session.svi(\n",
    "    sys_qubits = range(Ns),\n",
    "    model = generic_ancilla_model,\n",
    "    guide = logit_guide,\n",
    "    observations = sys_counts,\n",
    "    seed=42,\n",
    ")\n",
    "\n",
    "print(\"-\" * 50)\n",
    "print(f\"Final P(ancilla=0|observations): {final_probs[0]:.4f}\")\n",
    "print(f\"Final P(ancilla=1|observations): {final_probs[1]:.4f}\")"
   ]
  },
  {
   "cell_type": "code",
   "execution_count": 19,
   "id": "1a5f1031-9e50-490e-be5a-e10c25bec033",
   "metadata": {},
   "outputs": [
    {
     "name": "stdout",
     "output_type": "stream",
     "text": [
      "data P(ancilla=0): 0.0963134765625\n",
      "data P(ancilla=1): 0.9036865234375\n"
     ]
    }
   ],
   "source": [
    "# actual probabilities based on the data\n",
    "print(\"data P(ancilla=0):\", anc_counts['0']/sum(anc_counts.values()))\n",
    "print(\"data P(ancilla=1):\", anc_counts['1']/sum(anc_counts.values()))"
   ]
  },
  {
   "cell_type": "code",
   "execution_count": null,
   "id": "15d14a09-dc00-4f2a-aa16-6d165cbb17c6",
   "metadata": {},
   "outputs": [],
   "source": []
  }
 ],
 "metadata": {
  "kernelspec": {
   "display_name": "Python 3 (ipykernel)",
   "language": "python",
   "name": "python3"
  },
  "language_info": {
   "codemirror_mode": {
    "name": "ipython",
    "version": 3
   },
   "file_extension": ".py",
   "mimetype": "text/x-python",
   "name": "python",
   "nbconvert_exporter": "python",
   "pygments_lexer": "ipython3",
   "version": "3.12.11"
  }
 },
 "nbformat": 4,
 "nbformat_minor": 5
}
